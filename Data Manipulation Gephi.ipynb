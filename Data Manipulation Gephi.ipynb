{
 "cells": [
  {
   "cell_type": "code",
   "execution_count": 20,
   "metadata": {},
   "outputs": [],
   "source": [
    "import pandas as pd"
   ]
  },
  {
   "cell_type": "code",
   "execution_count": 21,
   "metadata": {},
   "outputs": [],
   "source": [
    "data = pd.read_csv('grafo-flamengo.csv', sep=';', engine='python', encoding='utf-8', error_bad_lines=False)"
   ]
  },
  {
   "cell_type": "code",
   "execution_count": 22,
   "metadata": {},
   "outputs": [
    {
     "data": {
      "text/html": [
       "<div>\n",
       "<style scoped>\n",
       "    .dataframe tbody tr th:only-of-type {\n",
       "        vertical-align: middle;\n",
       "    }\n",
       "\n",
       "    .dataframe tbody tr th {\n",
       "        vertical-align: top;\n",
       "    }\n",
       "\n",
       "    .dataframe thead th {\n",
       "        text-align: right;\n",
       "    }\n",
       "</style>\n",
       "<table border=\"1\" class=\"dataframe\">\n",
       "  <thead>\n",
       "    <tr style=\"text-align: right;\">\n",
       "      <th></th>\n",
       "      <th>source</th>\n",
       "      <th>target</th>\n",
       "      <th>text</th>\n",
       "      <th>url</th>\n",
       "    </tr>\n",
       "  </thead>\n",
       "  <tbody>\n",
       "    <tr>\n",
       "      <th>0</th>\n",
       "      <td>MendesNobru</td>\n",
       "      <td>andrizek</td>\n",
       "      <td>Flamengo jogou uma insana final em Lima, ficou...</td>\n",
       "      <td>https://twitter.com/MendesNobru/status/1200420...</td>\n",
       "    </tr>\n",
       "    <tr>\n",
       "      <th>1</th>\n",
       "      <td>IvsonCostaDeAr1</td>\n",
       "      <td>centraldanacao</td>\n",
       "      <td>O clube do vinho vai massacrar o Cruzeiro como...</td>\n",
       "      <td>https://twitter.com/IvsonCostaDeAr1/status/120...</td>\n",
       "    </tr>\n",
       "    <tr>\n",
       "      <th>2</th>\n",
       "      <td>IvsonCostaDeAr1</td>\n",
       "      <td>luizfilipecm</td>\n",
       "      <td>Pro Flamengo demitir técnico exigem aviso prév...</td>\n",
       "      <td>https://twitter.com/IvsonCostaDeAr1/status/120...</td>\n",
       "    </tr>\n",
       "    <tr>\n",
       "      <th>3</th>\n",
       "      <td>richard_dtb</td>\n",
       "      <td>flamengoloide</td>\n",
       "      <td>EM 2017, ESSE DOIS JOGADORES, FIZERAM UM VIDEO...</td>\n",
       "      <td>https://twitter.com/richard_dtb/status/1200420...</td>\n",
       "    </tr>\n",
       "    <tr>\n",
       "      <th>4</th>\n",
       "      <td>KefaliVictor</td>\n",
       "      <td>andrizek</td>\n",
       "      <td>Flamengo jogou uma insana final em Lima, ficou...</td>\n",
       "      <td>https://twitter.com/KefaliVictor/status/120042...</td>\n",
       "    </tr>\n",
       "  </tbody>\n",
       "</table>\n",
       "</div>"
      ],
      "text/plain": [
       "            source          target  \\\n",
       "0      MendesNobru        andrizek   \n",
       "1  IvsonCostaDeAr1  centraldanacao   \n",
       "2  IvsonCostaDeAr1    luizfilipecm   \n",
       "3      richard_dtb   flamengoloide   \n",
       "4     KefaliVictor        andrizek   \n",
       "\n",
       "                                                text  \\\n",
       "0  Flamengo jogou uma insana final em Lima, ficou...   \n",
       "1  O clube do vinho vai massacrar o Cruzeiro como...   \n",
       "2  Pro Flamengo demitir técnico exigem aviso prév...   \n",
       "3  EM 2017, ESSE DOIS JOGADORES, FIZERAM UM VIDEO...   \n",
       "4  Flamengo jogou uma insana final em Lima, ficou...   \n",
       "\n",
       "                                                 url  \n",
       "0  https://twitter.com/MendesNobru/status/1200420...  \n",
       "1  https://twitter.com/IvsonCostaDeAr1/status/120...  \n",
       "2  https://twitter.com/IvsonCostaDeAr1/status/120...  \n",
       "3  https://twitter.com/richard_dtb/status/1200420...  \n",
       "4  https://twitter.com/KefaliVictor/status/120042...  "
      ]
     },
     "execution_count": 22,
     "metadata": {},
     "output_type": "execute_result"
    }
   ],
   "source": [
    "data.head()"
   ]
  },
  {
   "cell_type": "code",
   "execution_count": 23,
   "metadata": {},
   "outputs": [
    {
     "data": {
      "text/html": [
       "<div>\n",
       "<style scoped>\n",
       "    .dataframe tbody tr th:only-of-type {\n",
       "        vertical-align: middle;\n",
       "    }\n",
       "\n",
       "    .dataframe tbody tr th {\n",
       "        vertical-align: top;\n",
       "    }\n",
       "\n",
       "    .dataframe thead th {\n",
       "        text-align: right;\n",
       "    }\n",
       "</style>\n",
       "<table border=\"1\" class=\"dataframe\">\n",
       "  <thead>\n",
       "    <tr style=\"text-align: right;\">\n",
       "      <th></th>\n",
       "      <th>source</th>\n",
       "      <th>target</th>\n",
       "      <th>text</th>\n",
       "      <th>url</th>\n",
       "    </tr>\n",
       "  </thead>\n",
       "  <tbody>\n",
       "    <tr>\n",
       "      <th>0</th>\n",
       "      <td>False</td>\n",
       "      <td>False</td>\n",
       "      <td>False</td>\n",
       "      <td>False</td>\n",
       "    </tr>\n",
       "    <tr>\n",
       "      <th>1</th>\n",
       "      <td>False</td>\n",
       "      <td>False</td>\n",
       "      <td>False</td>\n",
       "      <td>False</td>\n",
       "    </tr>\n",
       "    <tr>\n",
       "      <th>2</th>\n",
       "      <td>False</td>\n",
       "      <td>False</td>\n",
       "      <td>False</td>\n",
       "      <td>False</td>\n",
       "    </tr>\n",
       "    <tr>\n",
       "      <th>3</th>\n",
       "      <td>False</td>\n",
       "      <td>False</td>\n",
       "      <td>False</td>\n",
       "      <td>False</td>\n",
       "    </tr>\n",
       "    <tr>\n",
       "      <th>4</th>\n",
       "      <td>False</td>\n",
       "      <td>False</td>\n",
       "      <td>False</td>\n",
       "      <td>False</td>\n",
       "    </tr>\n",
       "    <tr>\n",
       "      <th>...</th>\n",
       "      <td>...</td>\n",
       "      <td>...</td>\n",
       "      <td>...</td>\n",
       "      <td>...</td>\n",
       "    </tr>\n",
       "    <tr>\n",
       "      <th>13701</th>\n",
       "      <td>False</td>\n",
       "      <td>False</td>\n",
       "      <td>False</td>\n",
       "      <td>False</td>\n",
       "    </tr>\n",
       "    <tr>\n",
       "      <th>13702</th>\n",
       "      <td>False</td>\n",
       "      <td>False</td>\n",
       "      <td>False</td>\n",
       "      <td>False</td>\n",
       "    </tr>\n",
       "    <tr>\n",
       "      <th>13703</th>\n",
       "      <td>False</td>\n",
       "      <td>False</td>\n",
       "      <td>False</td>\n",
       "      <td>False</td>\n",
       "    </tr>\n",
       "    <tr>\n",
       "      <th>13704</th>\n",
       "      <td>False</td>\n",
       "      <td>False</td>\n",
       "      <td>False</td>\n",
       "      <td>False</td>\n",
       "    </tr>\n",
       "    <tr>\n",
       "      <th>13705</th>\n",
       "      <td>False</td>\n",
       "      <td>False</td>\n",
       "      <td>False</td>\n",
       "      <td>False</td>\n",
       "    </tr>\n",
       "  </tbody>\n",
       "</table>\n",
       "<p>13706 rows × 4 columns</p>\n",
       "</div>"
      ],
      "text/plain": [
       "       source  target   text    url\n",
       "0       False   False  False  False\n",
       "1       False   False  False  False\n",
       "2       False   False  False  False\n",
       "3       False   False  False  False\n",
       "4       False   False  False  False\n",
       "...       ...     ...    ...    ...\n",
       "13701   False   False  False  False\n",
       "13702   False   False  False  False\n",
       "13703   False   False  False  False\n",
       "13704   False   False  False  False\n",
       "13705   False   False  False  False\n",
       "\n",
       "[13706 rows x 4 columns]"
      ]
     },
     "execution_count": 23,
     "metadata": {},
     "output_type": "execute_result"
    }
   ],
   "source": [
    "data.isnull()"
   ]
  },
  {
   "cell_type": "code",
   "execution_count": 24,
   "metadata": {},
   "outputs": [
    {
     "name": "stdout",
     "output_type": "stream",
     "text": [
      "<class 'pandas.core.frame.DataFrame'>\n",
      "RangeIndex: 13706 entries, 0 to 13705\n",
      "Data columns (total 4 columns):\n",
      "source    13706 non-null object\n",
      "target    13706 non-null object\n",
      "text      13706 non-null object\n",
      "url       13706 non-null object\n",
      "dtypes: object(4)\n",
      "memory usage: 428.4+ KB\n"
     ]
    }
   ],
   "source": [
    "data.info()"
   ]
  },
  {
   "cell_type": "code",
   "execution_count": 25,
   "metadata": {},
   "outputs": [
    {
     "data": {
      "text/html": [
       "<div>\n",
       "<style scoped>\n",
       "    .dataframe tbody tr th:only-of-type {\n",
       "        vertical-align: middle;\n",
       "    }\n",
       "\n",
       "    .dataframe tbody tr th {\n",
       "        vertical-align: top;\n",
       "    }\n",
       "\n",
       "    .dataframe thead th {\n",
       "        text-align: right;\n",
       "    }\n",
       "</style>\n",
       "<table border=\"1\" class=\"dataframe\">\n",
       "  <thead>\n",
       "    <tr style=\"text-align: right;\">\n",
       "      <th></th>\n",
       "      <th>source</th>\n",
       "      <th>target</th>\n",
       "      <th>text</th>\n",
       "      <th>url</th>\n",
       "    </tr>\n",
       "  </thead>\n",
       "  <tbody>\n",
       "  </tbody>\n",
       "</table>\n",
       "</div>"
      ],
      "text/plain": [
       "Empty DataFrame\n",
       "Columns: [source, target, text, url]\n",
       "Index: []"
      ]
     },
     "execution_count": 25,
     "metadata": {},
     "output_type": "execute_result"
    }
   ],
   "source": [
    "data[pd.isnull(data).any(axis=1)]"
   ]
  },
  {
   "cell_type": "code",
   "execution_count": 26,
   "metadata": {},
   "outputs": [],
   "source": [
    "data = data.dropna()"
   ]
  },
  {
   "cell_type": "code",
   "execution_count": 27,
   "metadata": {},
   "outputs": [
    {
     "data": {
      "text/html": [
       "<div>\n",
       "<style scoped>\n",
       "    .dataframe tbody tr th:only-of-type {\n",
       "        vertical-align: middle;\n",
       "    }\n",
       "\n",
       "    .dataframe tbody tr th {\n",
       "        vertical-align: top;\n",
       "    }\n",
       "\n",
       "    .dataframe thead th {\n",
       "        text-align: right;\n",
       "    }\n",
       "</style>\n",
       "<table border=\"1\" class=\"dataframe\">\n",
       "  <thead>\n",
       "    <tr style=\"text-align: right;\">\n",
       "      <th></th>\n",
       "      <th>source</th>\n",
       "      <th>target</th>\n",
       "      <th>text</th>\n",
       "      <th>url</th>\n",
       "    </tr>\n",
       "  </thead>\n",
       "  <tbody>\n",
       "  </tbody>\n",
       "</table>\n",
       "</div>"
      ],
      "text/plain": [
       "Empty DataFrame\n",
       "Columns: [source, target, text, url]\n",
       "Index: []"
      ]
     },
     "execution_count": 27,
     "metadata": {},
     "output_type": "execute_result"
    }
   ],
   "source": [
    "data[pd.isnull(data).any(axis=1)]"
   ]
  },
  {
   "cell_type": "code",
   "execution_count": 28,
   "metadata": {},
   "outputs": [],
   "source": [
    "data_query_titulos = data[data['text'].str.contains('#OBrasileiroJáGanhamos7')]"
   ]
  },
  {
   "cell_type": "code",
   "execution_count": 29,
   "metadata": {},
   "outputs": [
    {
     "data": {
      "text/html": [
       "<div>\n",
       "<style scoped>\n",
       "    .dataframe tbody tr th:only-of-type {\n",
       "        vertical-align: middle;\n",
       "    }\n",
       "\n",
       "    .dataframe tbody tr th {\n",
       "        vertical-align: top;\n",
       "    }\n",
       "\n",
       "    .dataframe thead th {\n",
       "        text-align: right;\n",
       "    }\n",
       "</style>\n",
       "<table border=\"1\" class=\"dataframe\">\n",
       "  <thead>\n",
       "    <tr style=\"text-align: right;\">\n",
       "      <th></th>\n",
       "      <th>source</th>\n",
       "      <th>target</th>\n",
       "      <th>text</th>\n",
       "      <th>url</th>\n",
       "    </tr>\n",
       "  </thead>\n",
       "  <tbody>\n",
       "    <tr>\n",
       "      <th>83</th>\n",
       "      <td>talitapqs</td>\n",
       "      <td>Flamengo</td>\n",
       "      <td>Aquele 😘 nela!!! #OBrasileiroJáGanhamos7\\n\\n📸 ...</td>\n",
       "      <td>https://twitter.com/talitapqs/status/120042007...</td>\n",
       "    </tr>\n",
       "    <tr>\n",
       "      <th>96</th>\n",
       "      <td>Celinofutsal03</td>\n",
       "      <td>Flamengo</td>\n",
       "      <td>Bom dia, Nação! Logo mais, às 16h, o Mengão tr...</td>\n",
       "      <td>https://twitter.com/Celinofutsal03/status/1200...</td>\n",
       "    </tr>\n",
       "    <tr>\n",
       "      <th>116</th>\n",
       "      <td>FlamengueiroPB</td>\n",
       "      <td>Flamengo</td>\n",
       "      <td>Pega essa duplinha! 😍😍😍\\n#OBrasileiroJáGanhamo...</td>\n",
       "      <td>https://twitter.com/FlamengueiroPB/status/1200...</td>\n",
       "    </tr>\n",
       "    <tr>\n",
       "      <th>137</th>\n",
       "      <td>_jota08</td>\n",
       "      <td>Flamengo</td>\n",
       "      <td>Aquele 😘 nela!!! #OBrasileiroJáGanhamos7\\n\\n📸 ...</td>\n",
       "      <td>https://twitter.com/_jota08/status/12004200443...</td>\n",
       "    </tr>\n",
       "    <tr>\n",
       "      <th>146</th>\n",
       "      <td>crf_marianna1</td>\n",
       "      <td>Flamengo</td>\n",
       "      <td>Aquele 😘 nela!!! #OBrasileiroJáGanhamos7\\n\\n📸 ...</td>\n",
       "      <td>https://twitter.com/crf_marianna1/status/12004...</td>\n",
       "    </tr>\n",
       "  </tbody>\n",
       "</table>\n",
       "</div>"
      ],
      "text/plain": [
       "             source    target  \\\n",
       "83        talitapqs  Flamengo   \n",
       "96   Celinofutsal03  Flamengo   \n",
       "116  FlamengueiroPB  Flamengo   \n",
       "137         _jota08  Flamengo   \n",
       "146   crf_marianna1  Flamengo   \n",
       "\n",
       "                                                  text  \\\n",
       "83   Aquele 😘 nela!!! #OBrasileiroJáGanhamos7\\n\\n📸 ...   \n",
       "96   Bom dia, Nação! Logo mais, às 16h, o Mengão tr...   \n",
       "116  Pega essa duplinha! 😍😍😍\\n#OBrasileiroJáGanhamo...   \n",
       "137  Aquele 😘 nela!!! #OBrasileiroJáGanhamos7\\n\\n📸 ...   \n",
       "146  Aquele 😘 nela!!! #OBrasileiroJáGanhamos7\\n\\n📸 ...   \n",
       "\n",
       "                                                   url  \n",
       "83   https://twitter.com/talitapqs/status/120042007...  \n",
       "96   https://twitter.com/Celinofutsal03/status/1200...  \n",
       "116  https://twitter.com/FlamengueiroPB/status/1200...  \n",
       "137  https://twitter.com/_jota08/status/12004200443...  \n",
       "146  https://twitter.com/crf_marianna1/status/12004...  "
      ]
     },
     "execution_count": 29,
     "metadata": {},
     "output_type": "execute_result"
    }
   ],
   "source": [
    "data_query_titulos.head()"
   ]
  },
  {
   "cell_type": "code",
   "execution_count": 30,
   "metadata": {},
   "outputs": [
    {
     "name": "stdout",
     "output_type": "stream",
     "text": [
      "<class 'pandas.core.frame.DataFrame'>\n",
      "Int64Index: 2177 entries, 83 to 13694\n",
      "Data columns (total 4 columns):\n",
      "source    2177 non-null object\n",
      "target    2177 non-null object\n",
      "text      2177 non-null object\n",
      "url       2177 non-null object\n",
      "dtypes: object(4)\n",
      "memory usage: 85.0+ KB\n"
     ]
    }
   ],
   "source": [
    "data_query_titulos.info()"
   ]
  },
  {
   "cell_type": "code",
   "execution_count": 31,
   "metadata": {},
   "outputs": [],
   "source": [
    "data_query_titulos.to_csv('titulos.csv', index=False)"
   ]
  },
  {
   "cell_type": "code",
   "execution_count": 32,
   "metadata": {},
   "outputs": [],
   "source": [
    "data_query_marcelo_cortes = data[data['text'].str.contains('Marcelo Cortes')]"
   ]
  },
  {
   "cell_type": "code",
   "execution_count": 33,
   "metadata": {},
   "outputs": [
    {
     "name": "stdout",
     "output_type": "stream",
     "text": [
      "<class 'pandas.core.frame.DataFrame'>\n",
      "Int64Index: 1967 entries, 83 to 13694\n",
      "Data columns (total 4 columns):\n",
      "source    1967 non-null object\n",
      "target    1967 non-null object\n",
      "text      1967 non-null object\n",
      "url       1967 non-null object\n",
      "dtypes: object(4)\n",
      "memory usage: 76.8+ KB\n"
     ]
    }
   ],
   "source": [
    "data_query_marcelo_cortes.info()"
   ]
  },
  {
   "cell_type": "code",
   "execution_count": 34,
   "metadata": {},
   "outputs": [],
   "source": [
    "data_query_marcelo_cortes.to_csv('marcelo_cortes.csv', index=False)"
   ]
  },
  {
   "cell_type": "code",
   "execution_count": 42,
   "metadata": {},
   "outputs": [],
   "source": [
    "data_query_gabigol = data[data['text'].str.contains('gabigol')]"
   ]
  },
  {
   "cell_type": "code",
   "execution_count": 41,
   "metadata": {},
   "outputs": [
    {
     "name": "stdout",
     "output_type": "stream",
     "text": [
      "<class 'pandas.core.frame.DataFrame'>\n",
      "Int64Index: 7 entries, 181 to 10238\n",
      "Data columns (total 4 columns):\n",
      "source    7 non-null object\n",
      "target    7 non-null object\n",
      "text      7 non-null object\n",
      "url       7 non-null object\n",
      "dtypes: object(4)\n",
      "memory usage: 280.0+ bytes\n"
     ]
    }
   ],
   "source": [
    "data_query_gabigol.info()"
   ]
  },
  {
   "cell_type": "code",
   "execution_count": 39,
   "metadata": {},
   "outputs": [],
   "source": [
    "data_query_gabigol.to_csv('gabigol.csv', index=False)"
   ]
  },
  {
   "cell_type": "code",
   "execution_count": null,
   "metadata": {},
   "outputs": [],
   "source": []
  }
 ],
 "metadata": {
  "kernelspec": {
   "display_name": "Python 3",
   "language": "python",
   "name": "python3"
  },
  "language_info": {
   "codemirror_mode": {
    "name": "ipython",
    "version": 3
   },
   "file_extension": ".py",
   "mimetype": "text/x-python",
   "name": "python",
   "nbconvert_exporter": "python",
   "pygments_lexer": "ipython3",
   "version": "3.7.3"
  }
 },
 "nbformat": 4,
 "nbformat_minor": 4
}
